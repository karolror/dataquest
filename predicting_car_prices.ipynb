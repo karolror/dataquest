{
 "cells": [
  {
   "cell_type": "markdown",
   "id": "38707175",
   "metadata": {},
   "source": [
    "# <center>Guided Project: Predicting Car Prices</center>"
   ]
  },
  {
   "cell_type": "markdown",
   "id": "7719d19d",
   "metadata": {},
   "source": [
    "# Introduction"
   ]
  },
  {
   "cell_type": "markdown",
   "id": "9e5f1ea5",
   "metadata": {},
   "source": [
    "In this guided project, we'll predict a car's market price using its attributes with the help of the k-nearest neighbors algorithm. The data set we will be working with contains information on various cars. For each car we have information about the technical aspects of the vehicle such as the motor's displacement, the weight of the car, the miles per gallon, how fast the car accelerates, and more."
   ]
  },
  {
   "cell_type": "markdown",
   "id": "1027da99",
   "metadata": {},
   "source": [
    "# Loading the dataset"
   ]
  },
  {
   "cell_type": "markdown",
   "id": "4c0e585a",
   "metadata": {},
   "source": [
    "## Importing libraries"
   ]
  },
  {
   "cell_type": "code",
   "execution_count": 23,
   "id": "dbbd409d",
   "metadata": {},
   "outputs": [],
   "source": [
    "import numpy as np\n",
    "import pandas as pd\n",
    "from sklearn.neighbors import KNeighborsRegressor\n",
    "from sklearn.metrics import mean_squared_error\n",
    "import matplotlib.pyplot as plt\n",
    "%matplotlib inline\n",
    "import warnings\n",
    "warnings.filterwarnings('ignore')"
   ]
  },
  {
   "cell_type": "markdown",
   "id": "7b8ffc80",
   "metadata": {},
   "source": [
    "## Creating a dataframe"
   ]
  },
  {
   "cell_type": "code",
   "execution_count": 2,
   "id": "1adc4df6",
   "metadata": {},
   "outputs": [],
   "source": [
    "# Column names list\n",
    "\n",
    "cols = ['symboling', 'normalized_losses', 'make', 'fuel_type', 'aspiration', 'num_of_doors', 'body_style', \n",
    "        'drive_wheels', 'engine_location', 'wheel_base', 'length', 'width', 'height', 'curb_weight', 'engine_type', \n",
    "        'num_of_cylinders', 'engine_size', 'fuel_system', 'bore', 'stroke', 'compression_rate', 'horsepower',\n",
    "        'peak_rpm', 'city_mpg', 'highway_mpg', 'price']"
   ]
  },
  {
   "cell_type": "code",
   "execution_count": 3,
   "id": "6994aee7",
   "metadata": {},
   "outputs": [
    {
     "data": {
      "text/html": [
       "<div>\n",
       "<style scoped>\n",
       "    .dataframe tbody tr th:only-of-type {\n",
       "        vertical-align: middle;\n",
       "    }\n",
       "\n",
       "    .dataframe tbody tr th {\n",
       "        vertical-align: top;\n",
       "    }\n",
       "\n",
       "    .dataframe thead th {\n",
       "        text-align: right;\n",
       "    }\n",
       "</style>\n",
       "<table border=\"1\" class=\"dataframe\">\n",
       "  <thead>\n",
       "    <tr style=\"text-align: right;\">\n",
       "      <th></th>\n",
       "      <th>symboling</th>\n",
       "      <th>normalized_losses</th>\n",
       "      <th>make</th>\n",
       "      <th>fuel_type</th>\n",
       "      <th>aspiration</th>\n",
       "      <th>num_of_doors</th>\n",
       "      <th>body_style</th>\n",
       "      <th>drive_wheels</th>\n",
       "      <th>engine_location</th>\n",
       "      <th>wheel_base</th>\n",
       "      <th>...</th>\n",
       "      <th>engine_size</th>\n",
       "      <th>fuel_system</th>\n",
       "      <th>bore</th>\n",
       "      <th>stroke</th>\n",
       "      <th>compression_rate</th>\n",
       "      <th>horsepower</th>\n",
       "      <th>peak_rpm</th>\n",
       "      <th>city_mpg</th>\n",
       "      <th>highway_mpg</th>\n",
       "      <th>price</th>\n",
       "    </tr>\n",
       "  </thead>\n",
       "  <tbody>\n",
       "    <tr>\n",
       "      <th>0</th>\n",
       "      <td>3</td>\n",
       "      <td>?</td>\n",
       "      <td>alfa-romero</td>\n",
       "      <td>gas</td>\n",
       "      <td>std</td>\n",
       "      <td>two</td>\n",
       "      <td>convertible</td>\n",
       "      <td>rwd</td>\n",
       "      <td>front</td>\n",
       "      <td>88.6</td>\n",
       "      <td>...</td>\n",
       "      <td>130</td>\n",
       "      <td>mpfi</td>\n",
       "      <td>3.47</td>\n",
       "      <td>2.68</td>\n",
       "      <td>9.0</td>\n",
       "      <td>111</td>\n",
       "      <td>5000</td>\n",
       "      <td>21</td>\n",
       "      <td>27</td>\n",
       "      <td>13495</td>\n",
       "    </tr>\n",
       "    <tr>\n",
       "      <th>1</th>\n",
       "      <td>3</td>\n",
       "      <td>?</td>\n",
       "      <td>alfa-romero</td>\n",
       "      <td>gas</td>\n",
       "      <td>std</td>\n",
       "      <td>two</td>\n",
       "      <td>convertible</td>\n",
       "      <td>rwd</td>\n",
       "      <td>front</td>\n",
       "      <td>88.6</td>\n",
       "      <td>...</td>\n",
       "      <td>130</td>\n",
       "      <td>mpfi</td>\n",
       "      <td>3.47</td>\n",
       "      <td>2.68</td>\n",
       "      <td>9.0</td>\n",
       "      <td>111</td>\n",
       "      <td>5000</td>\n",
       "      <td>21</td>\n",
       "      <td>27</td>\n",
       "      <td>16500</td>\n",
       "    </tr>\n",
       "    <tr>\n",
       "      <th>2</th>\n",
       "      <td>1</td>\n",
       "      <td>?</td>\n",
       "      <td>alfa-romero</td>\n",
       "      <td>gas</td>\n",
       "      <td>std</td>\n",
       "      <td>two</td>\n",
       "      <td>hatchback</td>\n",
       "      <td>rwd</td>\n",
       "      <td>front</td>\n",
       "      <td>94.5</td>\n",
       "      <td>...</td>\n",
       "      <td>152</td>\n",
       "      <td>mpfi</td>\n",
       "      <td>2.68</td>\n",
       "      <td>3.47</td>\n",
       "      <td>9.0</td>\n",
       "      <td>154</td>\n",
       "      <td>5000</td>\n",
       "      <td>19</td>\n",
       "      <td>26</td>\n",
       "      <td>16500</td>\n",
       "    </tr>\n",
       "    <tr>\n",
       "      <th>3</th>\n",
       "      <td>2</td>\n",
       "      <td>164</td>\n",
       "      <td>audi</td>\n",
       "      <td>gas</td>\n",
       "      <td>std</td>\n",
       "      <td>four</td>\n",
       "      <td>sedan</td>\n",
       "      <td>fwd</td>\n",
       "      <td>front</td>\n",
       "      <td>99.8</td>\n",
       "      <td>...</td>\n",
       "      <td>109</td>\n",
       "      <td>mpfi</td>\n",
       "      <td>3.19</td>\n",
       "      <td>3.40</td>\n",
       "      <td>10.0</td>\n",
       "      <td>102</td>\n",
       "      <td>5500</td>\n",
       "      <td>24</td>\n",
       "      <td>30</td>\n",
       "      <td>13950</td>\n",
       "    </tr>\n",
       "    <tr>\n",
       "      <th>4</th>\n",
       "      <td>2</td>\n",
       "      <td>164</td>\n",
       "      <td>audi</td>\n",
       "      <td>gas</td>\n",
       "      <td>std</td>\n",
       "      <td>four</td>\n",
       "      <td>sedan</td>\n",
       "      <td>4wd</td>\n",
       "      <td>front</td>\n",
       "      <td>99.4</td>\n",
       "      <td>...</td>\n",
       "      <td>136</td>\n",
       "      <td>mpfi</td>\n",
       "      <td>3.19</td>\n",
       "      <td>3.40</td>\n",
       "      <td>8.0</td>\n",
       "      <td>115</td>\n",
       "      <td>5500</td>\n",
       "      <td>18</td>\n",
       "      <td>22</td>\n",
       "      <td>17450</td>\n",
       "    </tr>\n",
       "  </tbody>\n",
       "</table>\n",
       "<p>5 rows × 26 columns</p>\n",
       "</div>"
      ],
      "text/plain": [
       "   symboling normalized_losses         make fuel_type aspiration num_of_doors  \\\n",
       "0          3                 ?  alfa-romero       gas        std          two   \n",
       "1          3                 ?  alfa-romero       gas        std          two   \n",
       "2          1                 ?  alfa-romero       gas        std          two   \n",
       "3          2               164         audi       gas        std         four   \n",
       "4          2               164         audi       gas        std         four   \n",
       "\n",
       "    body_style drive_wheels engine_location  wheel_base  ...  engine_size  \\\n",
       "0  convertible          rwd           front        88.6  ...          130   \n",
       "1  convertible          rwd           front        88.6  ...          130   \n",
       "2    hatchback          rwd           front        94.5  ...          152   \n",
       "3        sedan          fwd           front        99.8  ...          109   \n",
       "4        sedan          4wd           front        99.4  ...          136   \n",
       "\n",
       "   fuel_system  bore  stroke compression_rate horsepower  peak_rpm city_mpg  \\\n",
       "0         mpfi  3.47    2.68              9.0        111      5000       21   \n",
       "1         mpfi  3.47    2.68              9.0        111      5000       21   \n",
       "2         mpfi  2.68    3.47              9.0        154      5000       19   \n",
       "3         mpfi  3.19    3.40             10.0        102      5500       24   \n",
       "4         mpfi  3.19    3.40              8.0        115      5500       18   \n",
       "\n",
       "  highway_mpg  price  \n",
       "0          27  13495  \n",
       "1          27  16500  \n",
       "2          26  16500  \n",
       "3          30  13950  \n",
       "4          22  17450  \n",
       "\n",
       "[5 rows x 26 columns]"
      ]
     },
     "execution_count": 3,
     "metadata": {},
     "output_type": "execute_result"
    }
   ],
   "source": [
    "df = pd.read_csv('imports-85.data', names=cols)\n",
    "df.head()"
   ]
  },
  {
   "cell_type": "code",
   "execution_count": 4,
   "id": "27a43c69",
   "metadata": {},
   "outputs": [
    {
     "name": "stdout",
     "output_type": "stream",
     "text": [
      "<class 'pandas.core.frame.DataFrame'>\n",
      "RangeIndex: 205 entries, 0 to 204\n",
      "Data columns (total 26 columns):\n",
      " #   Column             Non-Null Count  Dtype  \n",
      "---  ------             --------------  -----  \n",
      " 0   symboling          205 non-null    int64  \n",
      " 1   normalized_losses  205 non-null    object \n",
      " 2   make               205 non-null    object \n",
      " 3   fuel_type          205 non-null    object \n",
      " 4   aspiration         205 non-null    object \n",
      " 5   num_of_doors       205 non-null    object \n",
      " 6   body_style         205 non-null    object \n",
      " 7   drive_wheels       205 non-null    object \n",
      " 8   engine_location    205 non-null    object \n",
      " 9   wheel_base         205 non-null    float64\n",
      " 10  length             205 non-null    float64\n",
      " 11  width              205 non-null    float64\n",
      " 12  height             205 non-null    float64\n",
      " 13  curb_weight        205 non-null    int64  \n",
      " 14  engine_type        205 non-null    object \n",
      " 15  num_of_cylinders   205 non-null    object \n",
      " 16  engine_size        205 non-null    int64  \n",
      " 17  fuel_system        205 non-null    object \n",
      " 18  bore               205 non-null    object \n",
      " 19  stroke             205 non-null    object \n",
      " 20  compression_rate   205 non-null    float64\n",
      " 21  horsepower         205 non-null    object \n",
      " 22  peak_rpm           205 non-null    object \n",
      " 23  city_mpg           205 non-null    int64  \n",
      " 24  highway_mpg        205 non-null    int64  \n",
      " 25  price              205 non-null    object \n",
      "dtypes: float64(5), int64(5), object(16)\n",
      "memory usage: 41.8+ KB\n"
     ]
    }
   ],
   "source": [
    "# Determine which columns are numeric and can be used as features and which column is the target column\n",
    "\n",
    "df.info()"
   ]
  },
  {
   "cell_type": "code",
   "execution_count": 5,
   "id": "0b07b265",
   "metadata": {},
   "outputs": [],
   "source": [
    "# New dataframe with numeric values only\n",
    "\n",
    "values_cols = ['normalized_losses', 'wheel_base', 'length', 'width', 'height', 'curb_weight', 'engine_size', 'bore',\n",
    "               'stroke', 'compression_rate', 'horsepower', 'peak_rpm', 'city_mpg', 'highway_mpg', 'price']\n",
    "cars = df[values_cols]"
   ]
  },
  {
   "cell_type": "markdown",
   "id": "5547e172",
   "metadata": {},
   "source": [
    "# Data cleaning"
   ]
  },
  {
   "cell_type": "markdown",
   "id": "1bc99dda",
   "metadata": {},
   "source": [
    "## Replacing \"`?`\" missing values"
   ]
  },
  {
   "cell_type": "code",
   "execution_count": 6,
   "id": "a96f735d",
   "metadata": {},
   "outputs": [],
   "source": [
    "cars = cars.replace('?', np.nan)"
   ]
  },
  {
   "cell_type": "markdown",
   "id": "974ce8a7",
   "metadata": {},
   "source": [
    "## Correcting column types"
   ]
  },
  {
   "cell_type": "code",
   "execution_count": 7,
   "id": "7da15984",
   "metadata": {},
   "outputs": [],
   "source": [
    "# Type change to float\n",
    "\n",
    "cars = cars.astype('float')"
   ]
  },
  {
   "cell_type": "markdown",
   "id": "0bb8bb37",
   "metadata": {},
   "source": [
    "## Dealing with missing values"
   ]
  },
  {
   "cell_type": "code",
   "execution_count": 8,
   "id": "e9c8c1f4",
   "metadata": {},
   "outputs": [
    {
     "data": {
      "text/plain": [
       "normalized_losses    41\n",
       "wheel_base            0\n",
       "length                0\n",
       "width                 0\n",
       "height                0\n",
       "curb_weight           0\n",
       "engine_size           0\n",
       "bore                  4\n",
       "stroke                4\n",
       "compression_rate      0\n",
       "horsepower            2\n",
       "peak_rpm              2\n",
       "city_mpg              0\n",
       "highway_mpg           0\n",
       "price                 4\n",
       "dtype: int64"
      ]
     },
     "execution_count": 8,
     "metadata": {},
     "output_type": "execute_result"
    }
   ],
   "source": [
    "# Sum of NaNs\n",
    "\n",
    "cars.isnull().sum()"
   ]
  },
  {
   "cell_type": "code",
   "execution_count": 9,
   "id": "bc9d91e8",
   "metadata": {},
   "outputs": [],
   "source": [
    "# Remove any rows with missing `price` values\n",
    "\n",
    "cars = cars.dropna(subset=['price'])"
   ]
  },
  {
   "cell_type": "code",
   "execution_count": 10,
   "id": "5a35075e",
   "metadata": {},
   "outputs": [],
   "source": [
    "# Fill missing values in other columns using column means\n",
    "\n",
    "cars = cars.fillna(cars.mean())"
   ]
  },
  {
   "cell_type": "markdown",
   "id": "5d559586",
   "metadata": {},
   "source": [
    "## Data normalizing"
   ]
  },
  {
   "cell_type": "code",
   "execution_count": 11,
   "id": "d01b7400",
   "metadata": {},
   "outputs": [],
   "source": [
    "# Normalize all columns except target\n",
    "\n",
    "unmod_price = cars['price']\n",
    "cars = (cars - cars.min())/(cars.max() - cars.min())\n",
    "cars['price'] = unmod_price"
   ]
  },
  {
   "cell_type": "markdown",
   "id": "1e335054",
   "metadata": {},
   "source": [
    "# Univariate model"
   ]
  },
  {
   "cell_type": "markdown",
   "id": "8a9246e2",
   "metadata": {},
   "source": [
    "## Creating a function "
   ]
  },
  {
   "cell_type": "code",
   "execution_count": 12,
   "id": "a311769f",
   "metadata": {},
   "outputs": [],
   "source": [
    "def knn_train_test(train_col, target_col, df):\n",
    "    \n",
    "    np.random.seed(1)\n",
    "    knn = KNeighborsRegressor()\n",
    "        \n",
    "    # Randomize order of rows\n",
    "    shuffled_index = np.random.permutation(df.index)\n",
    "    random_df = df.reindex(shuffled_index)\n",
    "\n",
    "    # Divide number of rows in half and round\n",
    "    half_round_rows = int(len(random_df) / 2)\n",
    "    \n",
    "    # The first half as training set and the second half as test set\n",
    "    train_df = random_df.iloc[0:half_round_rows]\n",
    "    test_df = random_df.iloc[half_round_rows:]\n",
    "    \n",
    "    # Fit a KNN model\n",
    "    knn.fit(train_df[[train_col]], train_df[target_col])\n",
    "    \n",
    "    # Make predictions\n",
    "    predicted = knn.predict(test_df[[train_col]])\n",
    "\n",
    "    # Calculate RMSE\n",
    "    mse = mean_squared_error(test_df[target_col], predicted)\n",
    "    rmse = np.sqrt(mse)\n",
    "    \n",
    "    return rmse"
   ]
  },
  {
   "cell_type": "markdown",
   "id": "8a98bd25",
   "metadata": {},
   "source": [
    "## Generating results"
   ]
  },
  {
   "cell_type": "code",
   "execution_count": 13,
   "id": "963a2ea0",
   "metadata": {},
   "outputs": [
    {
     "data": {
      "text/plain": [
       "{'normalized_losses': 7625.4735831635235,\n",
       " 'wheel_base': 5515.846252604965,\n",
       " 'length': 5404.45662309275,\n",
       " 'width': 4616.727651091889,\n",
       " 'height': 7846.702837788268,\n",
       " 'curb_weight': 4390.831218314223,\n",
       " 'engine_size': 3217.672060098206,\n",
       " 'bore': 7048.9719901009485,\n",
       " 'stroke': 8154.290159950973,\n",
       " 'compression_rate': 6195.087352423566,\n",
       " 'horsepower': 4033.238993343407,\n",
       " 'peak_rpm': 7228.221928792806,\n",
       " 'city_mpg': 4573.553717269808,\n",
       " 'highway_mpg': 5127.870302070001}"
      ]
     },
     "execution_count": 13,
     "metadata": {},
     "output_type": "execute_result"
    }
   ],
   "source": [
    "rmse_dict = {}\n",
    "train_cols = cars.columns.drop('price')\n",
    "\n",
    "for col in train_cols:\n",
    "    rmse_val = knn_train_test(col, 'price', cars)\n",
    "    rmse_dict[col] = rmse_val\n",
    "\n",
    "rmse_dict"
   ]
  },
  {
   "cell_type": "markdown",
   "id": "c287963e",
   "metadata": {},
   "source": [
    "## Modifying the function to accept a parameter for the `k` value"
   ]
  },
  {
   "cell_type": "code",
   "execution_count": 14,
   "id": "f7370133",
   "metadata": {},
   "outputs": [],
   "source": [
    "def knn_train_test(train_col, target_col, df, k_values):\n",
    "    np.random.seed(1)\n",
    "        \n",
    "    # Randomize order of rows\n",
    "    shuffled_index = np.random.permutation(df.index)\n",
    "    random_df = df.reindex(shuffled_index)\n",
    "\n",
    "    # Divide number of rows in half and round\n",
    "    half_round_rows = int(len(random_df) / 2)\n",
    "    \n",
    "    # The first half as training set and the second half as test set\n",
    "    train_df = random_df.iloc[0:half_round_rows]\n",
    "    test_df = random_df.iloc[half_round_rows:]\n",
    "    \n",
    "    k_rmses = {}\n",
    "    \n",
    "    for k in k_values:\n",
    "        # Fit a KNN model\n",
    "        knn = KNeighborsRegressor(n_neighbors=k)\n",
    "        knn.fit(train_df[[train_col]], train_df[target_col])\n",
    "\n",
    "        # Make predictions\n",
    "        predicted = knn.predict(test_df[[train_col]])\n",
    "\n",
    "        # Calculate RMSE\n",
    "        mse = mean_squared_error(test_df[target_col], predicted)\n",
    "        rmse = np.sqrt(mse)\n",
    "        \n",
    "        k_rmses[k] = rmse\n",
    "        \n",
    "    return k_rmses"
   ]
  },
  {
   "cell_type": "markdown",
   "id": "471f9fac",
   "metadata": {},
   "source": [
    "## Generating results"
   ]
  },
  {
   "cell_type": "code",
   "execution_count": 15,
   "id": "72818ef5",
   "metadata": {},
   "outputs": [
    {
     "data": {
      "text/plain": [
       "{'normalized_losses': {1: 9169.343202344224,\n",
       "  3: 6880.446272095314,\n",
       "  5: 7625.4735831635235,\n",
       "  7: 7473.664789346109,\n",
       "  9: 7738.876108695796},\n",
       " 'wheel_base': {1: 4855.5992594443815,\n",
       "  3: 5184.378495648115,\n",
       "  5: 5515.846252604965,\n",
       "  7: 5477.656799317875,\n",
       "  9: 5782.551803928287},\n",
       " 'length': {1: 5647.675258173241,\n",
       "  3: 5328.247336279319,\n",
       "  5: 5404.45662309275,\n",
       "  7: 5436.492374560482,\n",
       "  9: 5379.091143788758},\n",
       " 'width': {1: 4661.521707947241,\n",
       "  3: 4614.760371701744,\n",
       "  5: 4616.727651091889,\n",
       "  7: 4601.566039816409,\n",
       "  9: 4646.370571277915},\n",
       " 'height': {1: 12172.675286627149,\n",
       "  3: 8658.387014639016,\n",
       "  5: 7846.702837788268,\n",
       "  7: 7702.912254324187,\n",
       "  9: 7775.771673730523},\n",
       " 'curb_weight': {1: 5520.99749830025,\n",
       "  3: 5038.26321442437,\n",
       "  5: 4390.831218314223,\n",
       "  7: 4369.389287209419,\n",
       "  9: 4631.017219623442},\n",
       " 'engine_size': {1: 3793.0524594837916,\n",
       "  3: 2888.101089122418,\n",
       "  5: 3217.672060098206,\n",
       "  7: 3581.324289617956,\n",
       "  9: 3786.6109385990276},\n",
       " 'bore': {1: 6936.672777904604,\n",
       "  3: 7268.13343244737,\n",
       "  5: 7048.9719901009485,\n",
       "  7: 7248.647461340058,\n",
       "  9: 6909.4721186351},\n",
       " 'stroke': {1: 8293.688761180198,\n",
       "  3: 7347.98995093433,\n",
       "  5: 8154.290159950973,\n",
       "  7: 7834.85177338869,\n",
       "  9: 7659.318586109363},\n",
       " 'compression_rate': {1: 8084.0964293610405,\n",
       "  3: 6335.680290519272,\n",
       "  5: 6195.087352423566,\n",
       "  7: 6377.150001580258,\n",
       "  9: 6663.2929996047815},\n",
       " 'horsepower': {1: 4432.355076565107,\n",
       "  3: 4019.776583204332,\n",
       "  5: 4033.238993343407,\n",
       "  7: 4398.013295461942,\n",
       "  9: 4489.780548756604},\n",
       " 'peak_rpm': {1: 8644.724178295794,\n",
       "  3: 7976.471442998344,\n",
       "  5: 7228.221928792806,\n",
       "  7: 7261.914817688063,\n",
       "  9: 7194.536352119261},\n",
       " 'city_mpg': {1: 5521.403595406365,\n",
       "  3: 4569.496237637863,\n",
       "  5: 4573.553717269808,\n",
       "  7: 4769.874534340306,\n",
       "  9: 4927.157013783852},\n",
       " 'highway_mpg': {1: 6575.103894070556,\n",
       "  3: 5667.4393526778595,\n",
       "  5: 5127.870302070001,\n",
       "  7: 5183.14001881459,\n",
       "  9: 5309.567876895397}}"
      ]
     },
     "execution_count": 15,
     "metadata": {},
     "output_type": "execute_result"
    }
   ],
   "source": [
    "# suggested k values\n",
    "k_values = [1,3,5,7,9]\n",
    "\n",
    "k_rmse_dict = {}\n",
    "\n",
    "train_cols = cars.columns.drop('price')\n",
    "for col in train_cols:\n",
    "    rmse_val = knn_train_test(col, 'price', cars, k_values)\n",
    "    k_rmse_dict[col] = rmse_val\n",
    "\n",
    "k_rmse_dict"
   ]
  },
  {
   "cell_type": "markdown",
   "id": "4dd4a533",
   "metadata": {},
   "source": [
    "## Visualisation"
   ]
  },
  {
   "cell_type": "code",
   "execution_count": 16,
   "id": "65fb5389",
   "metadata": {},
   "outputs": [
    {
     "data": {
      "image/png": "[encoded data removed]",
      "text/plain": [
       "<Figure size 640x480 with 1 Axes>"
      ]
     },
     "metadata": {},
     "output_type": "display_data"
    }
   ],
   "source": [
    "for k,v in k_rmse_dict.items():\n",
    "    x = list(v.keys())\n",
    "    y = list(v.values())\n",
    "    \n",
    "    plt.scatter(x,y)\n",
    "    plt.xlabel('k value')\n",
    "    plt.ylabel('RMSE')\n",
    "    plt.xticks(x, [1,3,5,7,9])\n",
    "    \n",
    "plt.grid(axis = 'y')"
   ]
  },
  {
   "cell_type": "markdown",
   "id": "bb87e249",
   "metadata": {},
   "source": [
    "# Multivariate Model"
   ]
  },
  {
   "cell_type": "markdown",
   "id": "f03d14f9",
   "metadata": {},
   "source": [
    "## Computing average RMSE across different `k` values for each feature"
   ]
  },
  {
   "cell_type": "code",
   "execution_count": 17,
   "id": "a8f48dfc",
   "metadata": {
    "scrolled": true
   },
   "outputs": [],
   "source": [
    "feature_avg_rmse = {}\n",
    "\n",
    "for k,v in k_rmse_dict.items():\n",
    "    avg_rmse = np.mean(list(v.values()))\n",
    "    feature_avg_rmse[k] = avg_rmse\n",
    "\n",
    "series_rmse = pd.Series(feature_avg_rmse)\n",
    "sorted_series_rmse = series_rmse.sort_values()\n",
    "sorted_features = sorted_series_rmse.index"
   ]
  },
  {
   "cell_type": "markdown",
   "id": "c4dc39fb",
   "metadata": {},
   "source": [
    "## Modifying the function to use different logic"
   ]
  },
  {
   "cell_type": "code",
   "execution_count": 18,
   "id": "159a7d57",
   "metadata": {},
   "outputs": [],
   "source": [
    "def knn_train_test(train_col, target_col, df, k_values):\n",
    "    np.random.seed(1)\n",
    "        \n",
    "    # Randomize order of rows\n",
    "    shuffled_index = np.random.permutation(df.index)\n",
    "    random_df = df.reindex(shuffled_index)\n",
    "\n",
    "    # Divide number of rows in half and round\n",
    "    half_round_rows = int(len(random_df) / 2)\n",
    "    \n",
    "    # The first half as training set and the second half as test set\n",
    "    train_df = random_df.iloc[0:half_round_rows]\n",
    "    test_df = random_df.iloc[half_round_rows:]\n",
    "    \n",
    "    k_rmses = {}\n",
    "    \n",
    "    for k in k_values:\n",
    "        # Fit a KNN model\n",
    "        knn = KNeighborsRegressor(n_neighbors=k)\n",
    "        knn.fit(train_df[train_col], train_df[target_col])\n",
    "\n",
    "        # Make predictions\n",
    "        predicted = knn.predict(test_df[train_col])\n",
    "\n",
    "        # Calculate RMSE\n",
    "        mse = mean_squared_error(test_df[target_col], predicted)\n",
    "        rmse = np.sqrt(mse)\n",
    "        \n",
    "        k_rmses[k] = rmse\n",
    "        \n",
    "    return k_rmses"
   ]
  },
  {
   "cell_type": "markdown",
   "id": "3a0dffb6",
   "metadata": {},
   "source": [
    "## Generating results"
   ]
  },
  {
   "cell_type": "code",
   "execution_count": 19,
   "id": "54d8ecdd",
   "metadata": {},
   "outputs": [
    {
     "data": {
      "text/plain": [
       "{'2 best features': {5: 2950.385134450104},\n",
       " '3 best features': {5: 3554.861324278556},\n",
       " '4 best features': {5: 3487.340917327035},\n",
       " '5 best features': {5: 3360.832156381264},\n",
       " '6 best features': {5: 3667.6737231392244}}"
      ]
     },
     "execution_count": 19,
     "metadata": {},
     "output_type": "execute_result"
    }
   ],
   "source": [
    "k_rmse_results = {}\n",
    "\n",
    "for i in range(2,7):\n",
    "    k_rmse_results[f'{i} best features'] = knn_train_test(sorted_features[:i], 'price', cars, [5])\n",
    "\n",
    "k_rmse_results"
   ]
  },
  {
   "cell_type": "markdown",
   "id": "caa7e317",
   "metadata": {},
   "source": [
    "# Hyperparameter Tuning"
   ]
  },
  {
   "cell_type": "markdown",
   "id": "e465e20d",
   "metadata": {},
   "source": [
    "## Optimizing the model"
   ]
  },
  {
   "cell_type": "code",
   "execution_count": 20,
   "id": "fa7fa4af",
   "metadata": {},
   "outputs": [],
   "source": [
    "def knn_train_test(train_col, target_col, df):\n",
    "    np.random.seed(1)\n",
    "        \n",
    "    # Randomize order of rows\n",
    "    shuffled_index = np.random.permutation(df.index)\n",
    "    random_df = df.reindex(shuffled_index)\n",
    "\n",
    "    # Divide number of rows in half and round\n",
    "    half_round_rows = int(len(random_df) / 2)\n",
    "    \n",
    "    # The first half as training set and the second half as test set\n",
    "    train_df = random_df.iloc[0:half_round_rows]\n",
    "    test_df = random_df.iloc[half_round_rows:]\n",
    "    \n",
    "    k_values = [i for i in range(1, 25)]\n",
    "    k_rmses = {}\n",
    "    \n",
    "    for k in k_values:\n",
    "        # Fit a KNN model\n",
    "        knn = KNeighborsRegressor(n_neighbors=k)\n",
    "        knn.fit(train_df[train_col], train_df[target_col])\n",
    "\n",
    "        # Make predictions\n",
    "        predicted = knn.predict(test_df[train_col])\n",
    "\n",
    "        # Calculate RMSE\n",
    "        mse = mean_squared_error(test_df[target_col], predicted)\n",
    "        rmse = np.sqrt(mse)\n",
    "        \n",
    "        k_rmses[k] = rmse\n",
    "        \n",
    "    return k_rmses"
   ]
  },
  {
   "cell_type": "markdown",
   "id": "20989f56",
   "metadata": {},
   "source": [
    "## Generating results"
   ]
  },
  {
   "cell_type": "code",
   "execution_count": 21,
   "id": "cfe86ab3",
   "metadata": {},
   "outputs": [
    {
     "data": {
      "text/plain": [
       "{'2 best features': {1: 3237.730188307424,\n",
       "  2: 2730.0395343128075,\n",
       "  3: 2802.0964195284987,\n",
       "  4: 2867.177753004988,\n",
       "  5: 2950.385134450104,\n",
       "  6: 3069.7857667051207,\n",
       "  7: 3159.915090068036,\n",
       "  8: 3433.3694394749878,\n",
       "  9: 3758.846617631315,\n",
       "  10: 4030.7718409704607,\n",
       "  11: 4172.405628745994,\n",
       "  12: 4286.9355874510575,\n",
       "  13: 4362.105521426254,\n",
       "  14: 4428.92391026075,\n",
       "  15: 4546.281069699548,\n",
       "  16: 4669.689810222169,\n",
       "  17: 4728.309699270652,\n",
       "  18: 4792.146203300139,\n",
       "  19: 4823.068734250428,\n",
       "  20: 4841.2379001415875,\n",
       "  21: 4834.063654371646,\n",
       "  22: 4830.093200166389,\n",
       "  23: 4852.355429057597,\n",
       "  24: 4879.157518967971},\n",
       " '3 best features': {1: 3475.0434914295292,\n",
       "  2: 3471.805146854122,\n",
       "  3: 3338.6754619884887,\n",
       "  4: 3358.223552448202,\n",
       "  5: 3554.861324278556,\n",
       "  6: 3705.2262290096155,\n",
       "  7: 3665.585437597015,\n",
       "  8: 3745.5661776948136,\n",
       "  9: 3987.7362542939127,\n",
       "  10: 4000.133351106393,\n",
       "  11: 4140.931557450458,\n",
       "  12: 4266.610606768355,\n",
       "  13: 4339.335155387125,\n",
       "  14: 4324.572855666379,\n",
       "  15: 4395.117482013885,\n",
       "  16: 4401.660323221346,\n",
       "  17: 4402.365450396032,\n",
       "  18: 4473.290329256566,\n",
       "  19: 4538.993081735759,\n",
       "  20: 4591.612435015731,\n",
       "  21: 4624.023048321781,\n",
       "  22: 4730.499827880086,\n",
       "  23: 4770.040816904541,\n",
       "  24: 4808.5842858572005},\n",
       " '4 best features': {1: 2971.5274050245407,\n",
       "  2: 3130.079304977039,\n",
       "  3: 3116.066767418487,\n",
       "  4: 3243.7862030830393,\n",
       "  5: 3487.340917327035,\n",
       "  6: 3637.0381471429987,\n",
       "  7: 3606.195077860286,\n",
       "  8: 3809.9307026308247,\n",
       "  9: 3875.274902378068,\n",
       "  10: 3997.1583055842293,\n",
       "  11: 4162.59638717396,\n",
       "  12: 4290.059282922568,\n",
       "  13: 4367.5839312293165,\n",
       "  14: 4416.3135204410555,\n",
       "  15: 4437.277330499726,\n",
       "  16: 4441.4634909198785,\n",
       "  17: 4512.977837928936,\n",
       "  18: 4526.720871150805,\n",
       "  19: 4534.087665488951,\n",
       "  20: 4620.211598150367,\n",
       "  21: 4688.356509517293,\n",
       "  22: 4731.272110624816,\n",
       "  23: 4763.535312989311,\n",
       "  24: 4751.568851985648},\n",
       " '5 best features': {1: 2838.5257695773093,\n",
       "  2: 2879.0159566617326,\n",
       "  3: 2992.5609809028856,\n",
       "  4: 3134.7022812903197,\n",
       "  5: 3360.832156381264,\n",
       "  6: 3557.4667915593122,\n",
       "  7: 3568.1754419934873,\n",
       "  8: 3813.487896334386,\n",
       "  9: 3877.4884173547766,\n",
       "  10: 3986.600864753266,\n",
       "  11: 4156.544993584456,\n",
       "  12: 4306.111998168746,\n",
       "  13: 4379.1741150241005,\n",
       "  14: 4424.4457806146875,\n",
       "  15: 4439.13103636509,\n",
       "  16: 4437.2245234575785,\n",
       "  17: 4468.386628838723,\n",
       "  18: 4524.074675250982,\n",
       "  19: 4552.481339660914,\n",
       "  20: 4514.681684381207,\n",
       "  21: 4562.634893215576,\n",
       "  22: 4612.52467376059,\n",
       "  23: 4671.965354802952,\n",
       "  24: 4743.593283988187},\n",
       " '6 best features': {1: 3035.971477448559,\n",
       "  2: 3102.2023404971733,\n",
       "  3: 3307.788086184227,\n",
       "  4: 3495.2041530021343,\n",
       "  5: 3667.6737231392244,\n",
       "  6: 3773.3178532012284,\n",
       "  7: 3721.586308884378,\n",
       "  8: 3859.7158151916888,\n",
       "  9: 4034.538606051604,\n",
       "  10: 4118.710447866703,\n",
       "  11: 4198.20997138456,\n",
       "  12: 4356.2987111784305,\n",
       "  13: 4441.528801045308,\n",
       "  14: 4484.445918392693,\n",
       "  15: 4566.547240359815,\n",
       "  16: 4574.999617676532,\n",
       "  17: 4633.0287761482805,\n",
       "  18: 4709.410211065683,\n",
       "  19: 4762.500337957901,\n",
       "  20: 4792.991224245364,\n",
       "  21: 4840.939579676337,\n",
       "  22: 4864.691227571186,\n",
       "  23: 4896.648999075425,\n",
       "  24: 4924.408488771093}}"
      ]
     },
     "execution_count": 21,
     "metadata": {},
     "output_type": "execute_result"
    }
   ],
   "source": [
    "k_rmse_results = {}\n",
    "\n",
    "for i in range(2,7):\n",
    "    k_rmse_results[f'{i} best features'] = knn_train_test(sorted_features[:i], 'price', cars)\n",
    "\n",
    "k_rmse_results"
   ]
  },
  {
   "cell_type": "markdown",
   "id": "ef462d27",
   "metadata": {},
   "source": [
    "## Visualisation"
   ]
  },
  {
   "cell_type": "code",
   "execution_count": 22,
   "id": "233ae91d",
   "metadata": {},
   "outputs": [
    {
     "data": {
      "text/plain": [
       "<matplotlib.legend.Legend at 0x13f47c370>"
      ]
     },
     "execution_count": 22,
     "metadata": {},
     "output_type": "execute_result"
    },
    {
     "data": {
      "image/png": "[encoded data removed]",
      "text/plain": [
       "<Figure size 640x480 with 1 Axes>"
      ]
     },
     "metadata": {},
     "output_type": "display_data"
    }
   ],
   "source": [
    "for k,v in k_rmse_results.items():\n",
    "    x = list(v.keys())\n",
    "    y = list(v.values())  \n",
    "    plt.scatter(x,y, label=\"{}\".format(k))\n",
    "    \n",
    "plt.xlabel('k value')\n",
    "plt.ylabel('RMSE')\n",
    "plt.grid(axis = 'y')\n",
    "plt.legend()"
   ]
  },
  {
   "cell_type": "markdown",
   "id": "b1d0a61b",
   "metadata": {},
   "source": [
    "- **The best model was obtained for 2 best features and `k` = 2**\n",
    "- RMSE values under 3000 can be observed for: 2 best features, 5 best features and 4 best features"
   ]
  }
 ],
 "metadata": {
  "kernelspec": {
   "display_name": "Python 3 (ipykernel)",
   "language": "python",
   "name": "python3"
  },
  "language_info": {
   "codemirror_mode": {
    "name": "ipython",
    "version": 3
   },
   "file_extension": ".py",
   "mimetype": "text/x-python",
   "name": "python",
   "nbconvert_exporter": "python",
   "pygments_lexer": "ipython3",
   "version": "3.8.13"
  }
 },
 "nbformat": 4,
 "nbformat_minor": 5
}
